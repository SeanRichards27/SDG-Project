{
 "cells": [
  {
   "cell_type": "code",
   "execution_count": 15,
   "id": "2637e04b",
   "metadata": {},
   "outputs": [],
   "source": [
    "import json\n",
    "import numpy as np\n",
    "import pandas as pd\n",
    "import gensim\n",
    "from gensim.models import Word2Vec\n",
    "from gensim.models.keyedvectors import KeyedVectors\n",
    "\n",
    "# Load SDG keywords and test dataset\n",
    "with open('Data/sdg_keywords.json', 'r') as file:\n",
    "    sdg_keywords = json.load(file)\n",
    "\n",
    "df = pd.read_csv('Data/train_large.csv')\n",
    "\n",
    "texts = df['Text'].tolist()\n",
    "labels = df.iloc[:, 1:].values"
   ]
  },
  {
   "cell_type": "code",
   "execution_count": 2,
   "id": "91c2084a",
   "metadata": {},
   "outputs": [],
   "source": [
    "# Load pre-trained Word2Vec model (from google)\n",
    "model = KeyedVectors.load_word2vec_format('Data/Word2VecPretrained/GoogleNews-vectors-negative300.bin', binary=True)"
   ]
  },
  {
   "cell_type": "code",
   "execution_count": 16,
   "id": "ac4a7ed8",
   "metadata": {},
   "outputs": [],
   "source": [
    "#Text to Vector Function\n",
    "def text_to_avg_vector(text, model):\n",
    "    words = text.split()\n",
    "    word_vectors = [model[word] for word in words if word in model]\n",
    "    \n",
    "    if not word_vectors:\n",
    "        return np.zeros(model.vector_size)\n",
    "    \n",
    "    avg_vector = np.mean(word_vectors, axis=0)\n",
    "    return avg_vector"
   ]
  },
  {
   "cell_type": "code",
   "execution_count": 17,
   "id": "5c7c8e44",
   "metadata": {},
   "outputs": [],
   "source": [
    "# Convert each text in the dataset to its corresponding averaged word vector\n",
    "X = np.array([text_to_avg_vector(text, model) for text in texts])"
   ]
  },
  {
   "cell_type": "code",
   "execution_count": 18,
   "id": "76ad04d3",
   "metadata": {},
   "outputs": [],
   "source": [
    "from sklearn.model_selection import train_test_split\n",
    "\n",
    "X_train, X_test, Y_train, Y_test = train_test_split(X, labels, test_size=0.3, random_state=42)\n"
   ]
  },
  {
   "cell_type": "code",
   "execution_count": 19,
   "id": "10721578",
   "metadata": {},
   "outputs": [],
   "source": [
    "\n",
    "from sklearn.multioutput import MultiOutputClassifier\n",
    "from sklearn.ensemble import RandomForestClassifier\n",
    "classifier = MultiOutputClassifier(RandomForestClassifier()).fit(X_train, Y_train)\n"
   ]
  },
  {
   "cell_type": "markdown",
   "id": "72d9c6fc",
   "metadata": {},
   "source": [
    "## Random Forest"
   ]
  },
  {
   "cell_type": "code",
   "execution_count": 118,
   "id": "1019c75f",
   "metadata": {},
   "outputs": [
    {
     "data": {
      "text/html": [
       "<style>#sk-container-id-26 {color: black;}#sk-container-id-26 pre{padding: 0;}#sk-container-id-26 div.sk-toggleable {background-color: white;}#sk-container-id-26 label.sk-toggleable__label {cursor: pointer;display: block;width: 100%;margin-bottom: 0;padding: 0.3em;box-sizing: border-box;text-align: center;}#sk-container-id-26 label.sk-toggleable__label-arrow:before {content: \"▸\";float: left;margin-right: 0.25em;color: #696969;}#sk-container-id-26 label.sk-toggleable__label-arrow:hover:before {color: black;}#sk-container-id-26 div.sk-estimator:hover label.sk-toggleable__label-arrow:before {color: black;}#sk-container-id-26 div.sk-toggleable__content {max-height: 0;max-width: 0;overflow: hidden;text-align: left;background-color: #f0f8ff;}#sk-container-id-26 div.sk-toggleable__content pre {margin: 0.2em;color: black;border-radius: 0.25em;background-color: #f0f8ff;}#sk-container-id-26 input.sk-toggleable__control:checked~div.sk-toggleable__content {max-height: 200px;max-width: 100%;overflow: auto;}#sk-container-id-26 input.sk-toggleable__control:checked~label.sk-toggleable__label-arrow:before {content: \"▾\";}#sk-container-id-26 div.sk-estimator input.sk-toggleable__control:checked~label.sk-toggleable__label {background-color: #d4ebff;}#sk-container-id-26 div.sk-label input.sk-toggleable__control:checked~label.sk-toggleable__label {background-color: #d4ebff;}#sk-container-id-26 input.sk-hidden--visually {border: 0;clip: rect(1px 1px 1px 1px);clip: rect(1px, 1px, 1px, 1px);height: 1px;margin: -1px;overflow: hidden;padding: 0;position: absolute;width: 1px;}#sk-container-id-26 div.sk-estimator {font-family: monospace;background-color: #f0f8ff;border: 1px dotted black;border-radius: 0.25em;box-sizing: border-box;margin-bottom: 0.5em;}#sk-container-id-26 div.sk-estimator:hover {background-color: #d4ebff;}#sk-container-id-26 div.sk-parallel-item::after {content: \"\";width: 100%;border-bottom: 1px solid gray;flex-grow: 1;}#sk-container-id-26 div.sk-label:hover label.sk-toggleable__label {background-color: #d4ebff;}#sk-container-id-26 div.sk-serial::before {content: \"\";position: absolute;border-left: 1px solid gray;box-sizing: border-box;top: 0;bottom: 0;left: 50%;z-index: 0;}#sk-container-id-26 div.sk-serial {display: flex;flex-direction: column;align-items: center;background-color: white;padding-right: 0.2em;padding-left: 0.2em;position: relative;}#sk-container-id-26 div.sk-item {position: relative;z-index: 1;}#sk-container-id-26 div.sk-parallel {display: flex;align-items: stretch;justify-content: center;background-color: white;position: relative;}#sk-container-id-26 div.sk-item::before, #sk-container-id-26 div.sk-parallel-item::before {content: \"\";position: absolute;border-left: 1px solid gray;box-sizing: border-box;top: 0;bottom: 0;left: 50%;z-index: -1;}#sk-container-id-26 div.sk-parallel-item {display: flex;flex-direction: column;z-index: 1;position: relative;background-color: white;}#sk-container-id-26 div.sk-parallel-item:first-child::after {align-self: flex-end;width: 50%;}#sk-container-id-26 div.sk-parallel-item:last-child::after {align-self: flex-start;width: 50%;}#sk-container-id-26 div.sk-parallel-item:only-child::after {width: 0;}#sk-container-id-26 div.sk-dashed-wrapped {border: 1px dashed gray;margin: 0 0.4em 0.5em 0.4em;box-sizing: border-box;padding-bottom: 0.4em;background-color: white;}#sk-container-id-26 div.sk-label label {font-family: monospace;font-weight: bold;display: inline-block;line-height: 1.2em;}#sk-container-id-26 div.sk-label-container {text-align: center;}#sk-container-id-26 div.sk-container {/* jupyter's `normalize.less` sets `[hidden] { display: none; }` but bootstrap.min.css set `[hidden] { display: none !important; }` so we also need the `!important` here to be able to override the default hidden behavior on the sphinx rendered scikit-learn.org. See: https://github.com/scikit-learn/scikit-learn/issues/21755 */display: inline-block !important;position: relative;}#sk-container-id-26 div.sk-text-repr-fallback {display: none;}</style><div id=\"sk-container-id-26\" class=\"sk-top-container\"><div class=\"sk-text-repr-fallback\"><pre>MultiOutputClassifier(estimator=RandomForestClassifier(class_weight=&#x27;balanced_subsample&#x27;,\n",
       "                                                       criterion=&#x27;entropy&#x27;,\n",
       "                                                       max_depth=3,\n",
       "                                                       n_estimators=500,\n",
       "                                                       random_state=5))</pre><b>In a Jupyter environment, please rerun this cell to show the HTML representation or trust the notebook. <br />On GitHub, the HTML representation is unable to render, please try loading this page with nbviewer.org.</b></div><div class=\"sk-container\" hidden><div class=\"sk-item sk-dashed-wrapped\"><div class=\"sk-label-container\"><div class=\"sk-label sk-toggleable\"><input class=\"sk-toggleable__control sk-hidden--visually\" id=\"sk-estimator-id-74\" type=\"checkbox\" ><label for=\"sk-estimator-id-74\" class=\"sk-toggleable__label sk-toggleable__label-arrow\">MultiOutputClassifier</label><div class=\"sk-toggleable__content\"><pre>MultiOutputClassifier(estimator=RandomForestClassifier(class_weight=&#x27;balanced_subsample&#x27;,\n",
       "                                                       criterion=&#x27;entropy&#x27;,\n",
       "                                                       max_depth=3,\n",
       "                                                       n_estimators=500,\n",
       "                                                       random_state=5))</pre></div></div></div><div class=\"sk-parallel\"><div class=\"sk-parallel-item\"><div class=\"sk-item\"><div class=\"sk-label-container\"><div class=\"sk-label sk-toggleable\"><input class=\"sk-toggleable__control sk-hidden--visually\" id=\"sk-estimator-id-75\" type=\"checkbox\" ><label for=\"sk-estimator-id-75\" class=\"sk-toggleable__label sk-toggleable__label-arrow\">estimator: RandomForestClassifier</label><div class=\"sk-toggleable__content\"><pre>RandomForestClassifier(class_weight=&#x27;balanced_subsample&#x27;, criterion=&#x27;entropy&#x27;,\n",
       "                       max_depth=3, n_estimators=500, random_state=5)</pre></div></div></div><div class=\"sk-serial\"><div class=\"sk-item\"><div class=\"sk-estimator sk-toggleable\"><input class=\"sk-toggleable__control sk-hidden--visually\" id=\"sk-estimator-id-76\" type=\"checkbox\" ><label for=\"sk-estimator-id-76\" class=\"sk-toggleable__label sk-toggleable__label-arrow\">RandomForestClassifier</label><div class=\"sk-toggleable__content\"><pre>RandomForestClassifier(class_weight=&#x27;balanced_subsample&#x27;, criterion=&#x27;entropy&#x27;,\n",
       "                       max_depth=3, n_estimators=500, random_state=5)</pre></div></div></div></div></div></div></div></div></div></div>"
      ],
      "text/plain": [
       "MultiOutputClassifier(estimator=RandomForestClassifier(class_weight='balanced_subsample',\n",
       "                                                       criterion='entropy',\n",
       "                                                       max_depth=3,\n",
       "                                                       n_estimators=500,\n",
       "                                                       random_state=5))"
      ]
     },
     "execution_count": 118,
     "metadata": {},
     "output_type": "execute_result"
    }
   ],
   "source": [
    "classifier = MultiOutputClassifier(RandomForestClassifier(max_depth=3, criterion='entropy', n_estimators=500, class_weight='balanced_subsample', random_state=5))\n",
    "classifier.fit(X_train, Y_train)\n"
   ]
  },
  {
   "cell_type": "code",
   "execution_count": 119,
   "id": "bd986632",
   "metadata": {},
   "outputs": [
    {
     "name": "stdout",
     "output_type": "stream",
     "text": [
      "              precision    recall  f1-score   support\n",
      "\n",
      "       SDG 1       0.50      0.17      0.25        12\n",
      "      SDG 10       0.60      0.43      0.50        14\n",
      "       SDG 3       0.68      0.60      0.64        65\n",
      "      SDG 11       0.61      0.74      0.67        77\n",
      "      SDG 12       0.67      0.45      0.54        22\n",
      "      SDG 13       0.50      0.54      0.52        26\n",
      "      SDG 14       0.65      0.45      0.53        29\n",
      "      SDG 15       0.33      0.57      0.42        42\n",
      "      SDG 16       0.46      0.57      0.51        42\n",
      "      SDG 17       0.42      0.70      0.53        50\n",
      "       SDG 2       0.46      0.67      0.55        45\n",
      "       SDG 4       0.42      0.55      0.48        49\n",
      "       SDG 5       0.52      0.61      0.56        23\n",
      "       SDG 6       0.50      0.17      0.25        18\n",
      "       SDG 7       0.46      0.55      0.50        22\n",
      "       SDG 8       0.47      0.67      0.55        48\n",
      "       SDG 9       0.34      0.50      0.40        38\n",
      "\n",
      "   micro avg       0.48      0.58      0.53       622\n",
      "   macro avg       0.51      0.52      0.49       622\n",
      "weighted avg       0.51      0.58      0.53       622\n",
      " samples avg       0.41      0.53      0.43       622\n",
      "\n"
     ]
    },
    {
     "name": "stderr",
     "output_type": "stream",
     "text": [
      "/Users/vincefacchino/opt/anaconda3/lib/python3.8/site-packages/sklearn/metrics/_classification.py:1469: UndefinedMetricWarning: Precision and F-score are ill-defined and being set to 0.0 in samples with no predicted labels. Use `zero_division` parameter to control this behavior.\n",
      "  _warn_prf(average, modifier, msg_start, len(result))\n",
      "/Users/vincefacchino/opt/anaconda3/lib/python3.8/site-packages/sklearn/metrics/_classification.py:1469: UndefinedMetricWarning: Recall and F-score are ill-defined and being set to 0.0 in samples with no true labels. Use `zero_division` parameter to control this behavior.\n",
      "  _warn_prf(average, modifier, msg_start, len(result))\n"
     ]
    }
   ],
   "source": [
    "from sklearn.metrics import classification_report\n",
    "\n",
    "Y_pred = classifier.predict(X_test)\n",
    "print(classification_report(Y_test, Y_pred, target_names=sdg_keywords.keys()))"
   ]
  },
  {
   "cell_type": "markdown",
   "id": "4e2108c7",
   "metadata": {},
   "source": [
    "## Gradient Boosting"
   ]
  },
  {
   "cell_type": "code",
   "execution_count": 64,
   "id": "22813dda",
   "metadata": {},
   "outputs": [
    {
     "data": {
      "text/html": [
       "<style>#sk-container-id-22 {color: black;}#sk-container-id-22 pre{padding: 0;}#sk-container-id-22 div.sk-toggleable {background-color: white;}#sk-container-id-22 label.sk-toggleable__label {cursor: pointer;display: block;width: 100%;margin-bottom: 0;padding: 0.3em;box-sizing: border-box;text-align: center;}#sk-container-id-22 label.sk-toggleable__label-arrow:before {content: \"▸\";float: left;margin-right: 0.25em;color: #696969;}#sk-container-id-22 label.sk-toggleable__label-arrow:hover:before {color: black;}#sk-container-id-22 div.sk-estimator:hover label.sk-toggleable__label-arrow:before {color: black;}#sk-container-id-22 div.sk-toggleable__content {max-height: 0;max-width: 0;overflow: hidden;text-align: left;background-color: #f0f8ff;}#sk-container-id-22 div.sk-toggleable__content pre {margin: 0.2em;color: black;border-radius: 0.25em;background-color: #f0f8ff;}#sk-container-id-22 input.sk-toggleable__control:checked~div.sk-toggleable__content {max-height: 200px;max-width: 100%;overflow: auto;}#sk-container-id-22 input.sk-toggleable__control:checked~label.sk-toggleable__label-arrow:before {content: \"▾\";}#sk-container-id-22 div.sk-estimator input.sk-toggleable__control:checked~label.sk-toggleable__label {background-color: #d4ebff;}#sk-container-id-22 div.sk-label input.sk-toggleable__control:checked~label.sk-toggleable__label {background-color: #d4ebff;}#sk-container-id-22 input.sk-hidden--visually {border: 0;clip: rect(1px 1px 1px 1px);clip: rect(1px, 1px, 1px, 1px);height: 1px;margin: -1px;overflow: hidden;padding: 0;position: absolute;width: 1px;}#sk-container-id-22 div.sk-estimator {font-family: monospace;background-color: #f0f8ff;border: 1px dotted black;border-radius: 0.25em;box-sizing: border-box;margin-bottom: 0.5em;}#sk-container-id-22 div.sk-estimator:hover {background-color: #d4ebff;}#sk-container-id-22 div.sk-parallel-item::after {content: \"\";width: 100%;border-bottom: 1px solid gray;flex-grow: 1;}#sk-container-id-22 div.sk-label:hover label.sk-toggleable__label {background-color: #d4ebff;}#sk-container-id-22 div.sk-serial::before {content: \"\";position: absolute;border-left: 1px solid gray;box-sizing: border-box;top: 0;bottom: 0;left: 50%;z-index: 0;}#sk-container-id-22 div.sk-serial {display: flex;flex-direction: column;align-items: center;background-color: white;padding-right: 0.2em;padding-left: 0.2em;position: relative;}#sk-container-id-22 div.sk-item {position: relative;z-index: 1;}#sk-container-id-22 div.sk-parallel {display: flex;align-items: stretch;justify-content: center;background-color: white;position: relative;}#sk-container-id-22 div.sk-item::before, #sk-container-id-22 div.sk-parallel-item::before {content: \"\";position: absolute;border-left: 1px solid gray;box-sizing: border-box;top: 0;bottom: 0;left: 50%;z-index: -1;}#sk-container-id-22 div.sk-parallel-item {display: flex;flex-direction: column;z-index: 1;position: relative;background-color: white;}#sk-container-id-22 div.sk-parallel-item:first-child::after {align-self: flex-end;width: 50%;}#sk-container-id-22 div.sk-parallel-item:last-child::after {align-self: flex-start;width: 50%;}#sk-container-id-22 div.sk-parallel-item:only-child::after {width: 0;}#sk-container-id-22 div.sk-dashed-wrapped {border: 1px dashed gray;margin: 0 0.4em 0.5em 0.4em;box-sizing: border-box;padding-bottom: 0.4em;background-color: white;}#sk-container-id-22 div.sk-label label {font-family: monospace;font-weight: bold;display: inline-block;line-height: 1.2em;}#sk-container-id-22 div.sk-label-container {text-align: center;}#sk-container-id-22 div.sk-container {/* jupyter's `normalize.less` sets `[hidden] { display: none; }` but bootstrap.min.css set `[hidden] { display: none !important; }` so we also need the `!important` here to be able to override the default hidden behavior on the sphinx rendered scikit-learn.org. See: https://github.com/scikit-learn/scikit-learn/issues/21755 */display: inline-block !important;position: relative;}#sk-container-id-22 div.sk-text-repr-fallback {display: none;}</style><div id=\"sk-container-id-22\" class=\"sk-top-container\"><div class=\"sk-text-repr-fallback\"><pre>MultiOutputClassifier(estimator=GradientBoostingClassifier(criterion=&#x27;squared_error&#x27;,\n",
       "                                                           loss=&#x27;exponential&#x27;,\n",
       "                                                           n_estimators=200))</pre><b>In a Jupyter environment, please rerun this cell to show the HTML representation or trust the notebook. <br />On GitHub, the HTML representation is unable to render, please try loading this page with nbviewer.org.</b></div><div class=\"sk-container\" hidden><div class=\"sk-item sk-dashed-wrapped\"><div class=\"sk-label-container\"><div class=\"sk-label sk-toggleable\"><input class=\"sk-toggleable__control sk-hidden--visually\" id=\"sk-estimator-id-62\" type=\"checkbox\" ><label for=\"sk-estimator-id-62\" class=\"sk-toggleable__label sk-toggleable__label-arrow\">MultiOutputClassifier</label><div class=\"sk-toggleable__content\"><pre>MultiOutputClassifier(estimator=GradientBoostingClassifier(criterion=&#x27;squared_error&#x27;,\n",
       "                                                           loss=&#x27;exponential&#x27;,\n",
       "                                                           n_estimators=200))</pre></div></div></div><div class=\"sk-parallel\"><div class=\"sk-parallel-item\"><div class=\"sk-item\"><div class=\"sk-label-container\"><div class=\"sk-label sk-toggleable\"><input class=\"sk-toggleable__control sk-hidden--visually\" id=\"sk-estimator-id-63\" type=\"checkbox\" ><label for=\"sk-estimator-id-63\" class=\"sk-toggleable__label sk-toggleable__label-arrow\">estimator: GradientBoostingClassifier</label><div class=\"sk-toggleable__content\"><pre>GradientBoostingClassifier(criterion=&#x27;squared_error&#x27;, loss=&#x27;exponential&#x27;,\n",
       "                           n_estimators=200)</pre></div></div></div><div class=\"sk-serial\"><div class=\"sk-item\"><div class=\"sk-estimator sk-toggleable\"><input class=\"sk-toggleable__control sk-hidden--visually\" id=\"sk-estimator-id-64\" type=\"checkbox\" ><label for=\"sk-estimator-id-64\" class=\"sk-toggleable__label sk-toggleable__label-arrow\">GradientBoostingClassifier</label><div class=\"sk-toggleable__content\"><pre>GradientBoostingClassifier(criterion=&#x27;squared_error&#x27;, loss=&#x27;exponential&#x27;,\n",
       "                           n_estimators=200)</pre></div></div></div></div></div></div></div></div></div></div>"
      ],
      "text/plain": [
       "MultiOutputClassifier(estimator=GradientBoostingClassifier(criterion='squared_error',\n",
       "                                                           loss='exponential',\n",
       "                                                           n_estimators=200))"
      ]
     },
     "execution_count": 64,
     "metadata": {},
     "output_type": "execute_result"
    }
   ],
   "source": [
    "from sklearn.ensemble import GradientBoostingClassifier\n",
    "classifier = MultiOutputClassifier(GradientBoostingClassifier(loss=\"exponential\", learning_rate=0.1, n_estimators=200, criterion=\"squared_error\" ))\n",
    "classifier.fit(X_train, Y_train)\n"
   ]
  },
  {
   "cell_type": "code",
   "execution_count": 65,
   "id": "d020a261",
   "metadata": {},
   "outputs": [
    {
     "name": "stdout",
     "output_type": "stream",
     "text": [
      "              precision    recall  f1-score   support\n",
      "\n",
      "       SDG 1       0.00      0.00      0.00        12\n",
      "      SDG 10       0.25      0.07      0.11        14\n",
      "       SDG 3       0.85      0.54      0.66        65\n",
      "      SDG 11       0.85      0.45      0.59        77\n",
      "      SDG 12       0.30      0.14      0.19        22\n",
      "      SDG 13       0.75      0.46      0.57        26\n",
      "      SDG 14       0.75      0.31      0.44        29\n",
      "      SDG 15       0.75      0.14      0.24        42\n",
      "      SDG 16       0.82      0.21      0.34        42\n",
      "      SDG 17       0.64      0.18      0.28        50\n",
      "       SDG 2       0.60      0.40      0.48        45\n",
      "       SDG 4       0.66      0.39      0.49        49\n",
      "       SDG 5       0.89      0.35      0.50        23\n",
      "       SDG 6       0.25      0.06      0.09        18\n",
      "       SDG 7       0.40      0.18      0.25        22\n",
      "       SDG 8       0.60      0.25      0.35        48\n",
      "       SDG 9       0.71      0.13      0.22        38\n",
      "\n",
      "   micro avg       0.68      0.30      0.42       622\n",
      "   macro avg       0.59      0.25      0.34       622\n",
      "weighted avg       0.67      0.30      0.40       622\n",
      " samples avg       0.37      0.32      0.32       622\n",
      "\n"
     ]
    },
    {
     "name": "stderr",
     "output_type": "stream",
     "text": [
      "/Users/vincefacchino/opt/anaconda3/lib/python3.8/site-packages/sklearn/metrics/_classification.py:1469: UndefinedMetricWarning: Precision and F-score are ill-defined and being set to 0.0 in samples with no predicted labels. Use `zero_division` parameter to control this behavior.\n",
      "  _warn_prf(average, modifier, msg_start, len(result))\n",
      "/Users/vincefacchino/opt/anaconda3/lib/python3.8/site-packages/sklearn/metrics/_classification.py:1469: UndefinedMetricWarning: Recall and F-score are ill-defined and being set to 0.0 in samples with no true labels. Use `zero_division` parameter to control this behavior.\n",
      "  _warn_prf(average, modifier, msg_start, len(result))\n"
     ]
    }
   ],
   "source": [
    "from sklearn.metrics import classification_report\n",
    "\n",
    "Y_pred = classifier.predict(X_test)\n",
    "print(classification_report(Y_test, Y_pred, target_names=sdg_keywords.keys()))"
   ]
  },
  {
   "cell_type": "markdown",
   "id": "7b3d43ae",
   "metadata": {},
   "source": [
    "## ADABoost"
   ]
  },
  {
   "cell_type": "code",
   "execution_count": 39,
   "id": "bd0dad6d",
   "metadata": {},
   "outputs": [
    {
     "name": "stdout",
     "output_type": "stream",
     "text": [
      "              precision    recall  f1-score   support\n",
      "\n",
      "       SDG 1       0.84      0.26      0.40        99\n",
      "      SDG 10       0.75      0.25      0.38       153\n",
      "       SDG 3       0.77      0.63      0.69       499\n",
      "      SDG 11       0.80      0.53      0.64       184\n",
      "      SDG 12       0.87      0.59      0.70       130\n",
      "      SDG 13       0.84      0.56      0.67       135\n",
      "      SDG 14       0.86      0.54      0.67       129\n",
      "      SDG 15       0.70      0.13      0.21       221\n",
      "      SDG 16       0.74      0.15      0.26       207\n",
      "      SDG 17       0.72      0.18      0.29       195\n",
      "       SDG 2       0.80      0.24      0.37       272\n",
      "       SDG 4       0.72      0.33      0.45       161\n",
      "       SDG 5       0.77      0.48      0.59       133\n",
      "       SDG 6       0.71      0.34      0.46       103\n",
      "       SDG 7       0.79      0.34      0.48       143\n",
      "       SDG 8       0.73      0.33      0.46       299\n",
      "       SDG 9       0.82      0.23      0.35       306\n",
      "\n",
      "   micro avg       0.78      0.37      0.50      3369\n",
      "   macro avg       0.78      0.36      0.48      3369\n",
      "weighted avg       0.77      0.37      0.48      3369\n",
      " samples avg       0.46      0.41      0.42      3369\n",
      "\n"
     ]
    },
    {
     "name": "stderr",
     "output_type": "stream",
     "text": [
      "/Users/vincefacchino/opt/anaconda3/lib/python3.8/site-packages/sklearn/metrics/_classification.py:1469: UndefinedMetricWarning: Precision and F-score are ill-defined and being set to 0.0 in samples with no predicted labels. Use `zero_division` parameter to control this behavior.\n",
      "  _warn_prf(average, modifier, msg_start, len(result))\n",
      "/Users/vincefacchino/opt/anaconda3/lib/python3.8/site-packages/sklearn/metrics/_classification.py:1469: UndefinedMetricWarning: Recall and F-score are ill-defined and being set to 0.0 in samples with no true labels. Use `zero_division` parameter to control this behavior.\n",
      "  _warn_prf(average, modifier, msg_start, len(result))\n"
     ]
    }
   ],
   "source": [
    "from sklearn.ensemble import AdaBoostClassifier\n",
    "classifier = MultiOutputClassifier(AdaBoostClassifier(learning_rate=0.1, n_estimators=500 ))\n",
    "classifier.fit(X_train, Y_train)\n",
    "from sklearn.metrics import classification_report\n",
    "\n",
    "Y_pred = classifier.predict(X_test)\n",
    "print(classification_report(Y_test, Y_pred, target_names=sdg_keywords.keys()))"
   ]
  },
  {
   "cell_type": "markdown",
   "id": "8a5f3a8c",
   "metadata": {},
   "source": [
    "## KNN "
   ]
  },
  {
   "cell_type": "code",
   "execution_count": 37,
   "id": "792f170f",
   "metadata": {},
   "outputs": [
    {
     "name": "stdout",
     "output_type": "stream",
     "text": [
      "              precision    recall  f1-score   support\n",
      "\n",
      "       SDG 1       0.64      0.55      0.59        99\n",
      "      SDG 10       0.61      0.52      0.56       153\n",
      "       SDG 3       0.74      0.70      0.72       499\n",
      "      SDG 11       0.66      0.76      0.70       184\n",
      "      SDG 12       0.78      0.65      0.71       130\n",
      "      SDG 13       0.71      0.75      0.73       135\n",
      "      SDG 14       0.64      0.64      0.64       129\n",
      "      SDG 15       0.55      0.53      0.54       221\n",
      "      SDG 16       0.51      0.46      0.49       207\n",
      "      SDG 17       0.55      0.52      0.54       195\n",
      "       SDG 2       0.65      0.54      0.59       272\n",
      "       SDG 4       0.52      0.61      0.56       161\n",
      "       SDG 5       0.56      0.68      0.61       133\n",
      "       SDG 6       0.73      0.57      0.64       103\n",
      "       SDG 7       0.73      0.57      0.64       143\n",
      "       SDG 8       0.65      0.54      0.59       299\n",
      "       SDG 9       0.60      0.56      0.58       306\n",
      "\n",
      "   micro avg       0.64      0.60      0.62      3369\n",
      "   macro avg       0.64      0.60      0.61      3369\n",
      "weighted avg       0.64      0.60      0.62      3369\n",
      " samples avg       0.57      0.59      0.56      3369\n",
      "\n"
     ]
    },
    {
     "name": "stderr",
     "output_type": "stream",
     "text": [
      "/Users/vincefacchino/opt/anaconda3/lib/python3.8/site-packages/sklearn/metrics/_classification.py:1469: UndefinedMetricWarning: Precision and F-score are ill-defined and being set to 0.0 in samples with no predicted labels. Use `zero_division` parameter to control this behavior.\n",
      "  _warn_prf(average, modifier, msg_start, len(result))\n",
      "/Users/vincefacchino/opt/anaconda3/lib/python3.8/site-packages/sklearn/metrics/_classification.py:1469: UndefinedMetricWarning: Recall and F-score are ill-defined and being set to 0.0 in samples with no true labels. Use `zero_division` parameter to control this behavior.\n",
      "  _warn_prf(average, modifier, msg_start, len(result))\n"
     ]
    }
   ],
   "source": [
    "from sklearn.neighbors import KNeighborsClassifier\n",
    "classifier = MultiOutputClassifier(KNeighborsClassifier(n_neighbors=4, weights='distance'))\n",
    "classifier.fit(X_train, Y_train)\n",
    "\n",
    "from sklearn.metrics import classification_report\n",
    "\n",
    "Y_pred = classifier.predict(X_test)\n",
    "print(classification_report(Y_test, Y_pred, target_names=sdg_keywords.keys()))"
   ]
  },
  {
   "cell_type": "markdown",
   "id": "e4bb9583",
   "metadata": {},
   "source": [
    "## SVM"
   ]
  },
  {
   "cell_type": "code",
   "execution_count": 35,
   "id": "9a8c0a7a",
   "metadata": {},
   "outputs": [
    {
     "name": "stdout",
     "output_type": "stream",
     "text": [
      "              precision    recall  f1-score   support\n",
      "\n",
      "       SDG 1       0.63      0.33      0.44        99\n",
      "      SDG 10       0.69      0.49      0.57       153\n",
      "       SDG 3       0.75      0.65      0.70       499\n",
      "      SDG 11       0.74      0.65      0.69       184\n",
      "      SDG 12       0.80      0.72      0.76       130\n",
      "      SDG 13       0.73      0.67      0.70       135\n",
      "      SDG 14       0.76      0.61      0.68       129\n",
      "      SDG 15       0.64      0.36      0.46       221\n",
      "      SDG 16       0.63      0.29      0.40       207\n",
      "      SDG 17       0.67      0.45      0.54       195\n",
      "       SDG 2       0.76      0.50      0.60       272\n",
      "       SDG 4       0.59      0.45      0.51       161\n",
      "       SDG 5       0.76      0.63      0.69       133\n",
      "       SDG 6       0.68      0.50      0.57       103\n",
      "       SDG 7       0.67      0.50      0.57       143\n",
      "       SDG 8       0.66      0.52      0.58       299\n",
      "       SDG 9       0.64      0.43      0.51       306\n",
      "\n",
      "   micro avg       0.70      0.52      0.60      3369\n",
      "   macro avg       0.70      0.51      0.59      3369\n",
      "weighted avg       0.70      0.52      0.59      3369\n",
      " samples avg       0.55      0.54      0.52      3369\n",
      "\n"
     ]
    },
    {
     "name": "stderr",
     "output_type": "stream",
     "text": [
      "/Users/vincefacchino/opt/anaconda3/lib/python3.8/site-packages/sklearn/metrics/_classification.py:1469: UndefinedMetricWarning: Precision and F-score are ill-defined and being set to 0.0 in samples with no predicted labels. Use `zero_division` parameter to control this behavior.\n",
      "  _warn_prf(average, modifier, msg_start, len(result))\n",
      "/Users/vincefacchino/opt/anaconda3/lib/python3.8/site-packages/sklearn/metrics/_classification.py:1469: UndefinedMetricWarning: Recall and F-score are ill-defined and being set to 0.0 in samples with no true labels. Use `zero_division` parameter to control this behavior.\n",
      "  _warn_prf(average, modifier, msg_start, len(result))\n"
     ]
    }
   ],
   "source": [
    "from sklearn.svm import SVC\n",
    "classifier = MultiOutputClassifier(SVC(C=50, kernel=\"rbf\" ))\n",
    "classifier.fit(X_train, Y_train)\n",
    "\n",
    "from sklearn.metrics import classification_report\n",
    "\n",
    "Y_pred = classifier.predict(X_test)\n",
    "print(classification_report(Y_test, Y_pred, target_names=sdg_keywords.keys()))"
   ]
  },
  {
   "cell_type": "markdown",
   "id": "f847d6b4",
   "metadata": {},
   "source": [
    "## Naive Bayes"
   ]
  },
  {
   "cell_type": "code",
   "execution_count": 36,
   "id": "32c5899a",
   "metadata": {},
   "outputs": [
    {
     "name": "stdout",
     "output_type": "stream",
     "text": [
      "              precision    recall  f1-score   support\n",
      "\n",
      "       SDG 1       0.08      0.87      0.15        99\n",
      "      SDG 10       0.27      0.80      0.40       153\n",
      "       SDG 3       0.39      0.56      0.46       499\n",
      "      SDG 11       0.13      0.77      0.22       184\n",
      "      SDG 12       0.09      0.81      0.17       130\n",
      "      SDG 13       0.10      0.84      0.18       135\n",
      "      SDG 14       0.09      0.76      0.16       129\n",
      "      SDG 15       0.15      0.76      0.25       221\n",
      "      SDG 16       0.14      0.77      0.24       207\n",
      "      SDG 17       0.14      0.82      0.24       195\n",
      "       SDG 2       0.16      0.73      0.27       272\n",
      "       SDG 4       0.13      0.89      0.23       161\n",
      "       SDG 5       0.10      0.82      0.18       133\n",
      "       SDG 6       0.08      0.84      0.14       103\n",
      "       SDG 7       0.09      0.73      0.16       143\n",
      "       SDG 8       0.17      0.74      0.28       299\n",
      "       SDG 9       0.22      0.83      0.35       306\n",
      "\n",
      "   micro avg       0.14      0.76      0.24      3369\n",
      "   macro avg       0.15      0.79      0.24      3369\n",
      "weighted avg       0.18      0.76      0.27      3369\n",
      " samples avg       0.25      0.66      0.30      3369\n",
      "\n"
     ]
    },
    {
     "name": "stderr",
     "output_type": "stream",
     "text": [
      "/Users/vincefacchino/opt/anaconda3/lib/python3.8/site-packages/sklearn/metrics/_classification.py:1469: UndefinedMetricWarning: Precision and F-score are ill-defined and being set to 0.0 in samples with no predicted labels. Use `zero_division` parameter to control this behavior.\n",
      "  _warn_prf(average, modifier, msg_start, len(result))\n",
      "/Users/vincefacchino/opt/anaconda3/lib/python3.8/site-packages/sklearn/metrics/_classification.py:1469: UndefinedMetricWarning: Recall and F-score are ill-defined and being set to 0.0 in samples with no true labels. Use `zero_division` parameter to control this behavior.\n",
      "  _warn_prf(average, modifier, msg_start, len(result))\n"
     ]
    }
   ],
   "source": [
    "from sklearn.naive_bayes import GaussianNB\n",
    "classifier = MultiOutputClassifier(GaussianNB())\n",
    "classifier.fit(X_train, Y_train)\n",
    "\n",
    "from sklearn.metrics import classification_report\n",
    "\n",
    "Y_pred = classifier.predict(X_test)\n",
    "print(classification_report(Y_test, Y_pred, target_names=sdg_keywords.keys()))"
   ]
  },
  {
   "cell_type": "markdown",
   "id": "ea628ac0",
   "metadata": {},
   "source": [
    "## MLP"
   ]
  },
  {
   "cell_type": "code",
   "execution_count": 25,
   "id": "4852efab",
   "metadata": {},
   "outputs": [
    {
     "name": "stderr",
     "output_type": "stream",
     "text": [
      "/Users/vincefacchino/opt/anaconda3/lib/python3.8/site-packages/sklearn/neural_network/_multilayer_perceptron.py:691: ConvergenceWarning: Stochastic Optimizer: Maximum iterations (250) reached and the optimization hasn't converged yet.\n",
      "  warnings.warn(\n",
      "/Users/vincefacchino/opt/anaconda3/lib/python3.8/site-packages/sklearn/neural_network/_multilayer_perceptron.py:691: ConvergenceWarning: Stochastic Optimizer: Maximum iterations (250) reached and the optimization hasn't converged yet.\n",
      "  warnings.warn(\n",
      "/Users/vincefacchino/opt/anaconda3/lib/python3.8/site-packages/sklearn/neural_network/_multilayer_perceptron.py:691: ConvergenceWarning: Stochastic Optimizer: Maximum iterations (250) reached and the optimization hasn't converged yet.\n",
      "  warnings.warn(\n",
      "/Users/vincefacchino/opt/anaconda3/lib/python3.8/site-packages/sklearn/neural_network/_multilayer_perceptron.py:691: ConvergenceWarning: Stochastic Optimizer: Maximum iterations (250) reached and the optimization hasn't converged yet.\n",
      "  warnings.warn(\n",
      "/Users/vincefacchino/opt/anaconda3/lib/python3.8/site-packages/sklearn/neural_network/_multilayer_perceptron.py:691: ConvergenceWarning: Stochastic Optimizer: Maximum iterations (250) reached and the optimization hasn't converged yet.\n",
      "  warnings.warn(\n",
      "/Users/vincefacchino/opt/anaconda3/lib/python3.8/site-packages/sklearn/neural_network/_multilayer_perceptron.py:691: ConvergenceWarning: Stochastic Optimizer: Maximum iterations (250) reached and the optimization hasn't converged yet.\n",
      "  warnings.warn(\n"
     ]
    },
    {
     "name": "stdout",
     "output_type": "stream",
     "text": [
      "              precision    recall  f1-score   support\n",
      "\n",
      "       SDG 1       0.72      0.51      0.60        99\n",
      "      SDG 10       0.74      0.60      0.66       153\n",
      "       SDG 3       0.75      0.74      0.75       499\n",
      "      SDG 11       0.74      0.79      0.76       184\n",
      "      SDG 12       0.78      0.80      0.79       130\n",
      "      SDG 13       0.76      0.71      0.73       135\n",
      "      SDG 14       0.76      0.71      0.73       129\n",
      "      SDG 15       0.70      0.56      0.62       221\n",
      "      SDG 16       0.63      0.53      0.58       207\n",
      "      SDG 17       0.64      0.50      0.56       195\n",
      "       SDG 2       0.72      0.61      0.66       272\n",
      "       SDG 4       0.61      0.57      0.59       161\n",
      "       SDG 5       0.75      0.80      0.77       133\n",
      "       SDG 6       0.66      0.61      0.63       103\n",
      "       SDG 7       0.66      0.62      0.64       143\n",
      "       SDG 8       0.63      0.64      0.64       299\n",
      "       SDG 9       0.63      0.57      0.60       306\n",
      "\n",
      "   micro avg       0.70      0.64      0.67      3369\n",
      "   macro avg       0.70      0.64      0.67      3369\n",
      "weighted avg       0.70      0.64      0.67      3369\n",
      " samples avg       0.62      0.64      0.61      3369\n",
      "\n"
     ]
    },
    {
     "name": "stderr",
     "output_type": "stream",
     "text": [
      "/Users/vincefacchino/opt/anaconda3/lib/python3.8/site-packages/sklearn/neural_network/_multilayer_perceptron.py:691: ConvergenceWarning: Stochastic Optimizer: Maximum iterations (250) reached and the optimization hasn't converged yet.\n",
      "  warnings.warn(\n",
      "/Users/vincefacchino/opt/anaconda3/lib/python3.8/site-packages/sklearn/metrics/_classification.py:1469: UndefinedMetricWarning: Precision and F-score are ill-defined and being set to 0.0 in samples with no predicted labels. Use `zero_division` parameter to control this behavior.\n",
      "  _warn_prf(average, modifier, msg_start, len(result))\n",
      "/Users/vincefacchino/opt/anaconda3/lib/python3.8/site-packages/sklearn/metrics/_classification.py:1469: UndefinedMetricWarning: Recall and F-score are ill-defined and being set to 0.0 in samples with no true labels. Use `zero_division` parameter to control this behavior.\n",
      "  _warn_prf(average, modifier, msg_start, len(result))\n"
     ]
    }
   ],
   "source": [
    "from sklearn.neural_network import MLPClassifier\n",
    "classifier = MultiOutputClassifier(MLPClassifier(hidden_layer_sizes=300, max_iter=250, random_state=30))\n",
    "classifier.fit(X_train, Y_train)\n",
    "\n",
    "from sklearn.metrics import classification_report\n",
    "\n",
    "Y_pred = classifier.predict(X_test)\n",
    "print(classification_report(Y_test, Y_pred, target_names=sdg_keywords.keys()))"
   ]
  },
  {
   "cell_type": "code",
   "execution_count": null,
   "id": "51bbc7d5",
   "metadata": {},
   "outputs": [],
   "source": []
  }
 ],
 "metadata": {
  "kernelspec": {
   "display_name": "conda_python3",
   "language": "python",
   "name": "conda_python3"
  },
  "language_info": {
   "codemirror_mode": {
    "name": "ipython",
    "version": 3
   },
   "file_extension": ".py",
   "mimetype": "text/x-python",
   "name": "python",
   "nbconvert_exporter": "python",
   "pygments_lexer": "ipython3",
   "version": "3.10.12"
  }
 },
 "nbformat": 4,
 "nbformat_minor": 5
}
