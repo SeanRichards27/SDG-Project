{
 "cells": [
  {
   "cell_type": "code",
   "execution_count": 1,
   "id": "2637e04b",
   "metadata": {},
   "outputs": [],
   "source": [
    "import json\n",
    "import numpy as np\n",
    "import pandas as pd\n",
    "import gensim\n",
    "from gensim.models import Word2Vec\n",
    "from gensim.models.keyedvectors import KeyedVectors\n",
    "\n",
    "# Load SDG keywords and test dataset\n",
    "with open('Data/sdg_keywords.json', 'r') as file:\n",
    "    sdg_keywords = json.load(file)\n",
    "\n",
    "df = pd.read_csv('Data/train_large.csv')\n",
    "\n",
    "texts = df['Text'].tolist()\n",
    "labels = df.iloc[:, 1:].values"
   ]
  },
  {
   "cell_type": "code",
   "execution_count": 2,
   "id": "6b35d2f9",
   "metadata": {},
   "outputs": [],
   "source": [
    "#Sentence Embedding\n",
    "from sentence_transformers import SentenceTransformer\n",
    "model_path = 'Data/Sentenced_Pretrained/distilbert-base-nli-mean-tokens'\n",
    "model = SentenceTransformer(model_path)"
   ]
  },
  {
   "cell_type": "code",
   "execution_count": 3,
   "id": "c2f5f376",
   "metadata": {},
   "outputs": [],
   "source": [
    "#Text to Vector Function\n",
    "def text_to_vector(text, model):\n",
    "    return model.encode([text])[0]\n"
   ]
  },
  {
   "cell_type": "code",
   "execution_count": 4,
   "id": "2b0c646a",
   "metadata": {},
   "outputs": [],
   "source": [
    "# Convert the texts in the dataset into sentence vectors\n",
    "X = np.array([text_to_vector(text, model) for text in texts])"
   ]
  },
  {
   "cell_type": "code",
   "execution_count": 5,
   "id": "76ad04d3",
   "metadata": {},
   "outputs": [],
   "source": [
    "#Train-Test Split\n",
    "from sklearn.model_selection import train_test_split\n",
    "\n",
    "X_train, X_test, Y_train, Y_test = train_test_split(X, labels, test_size=0.3, random_state=42)\n"
   ]
  },
  {
   "cell_type": "code",
   "execution_count": 6,
   "id": "10721578",
   "metadata": {},
   "outputs": [],
   "source": [
    "from sklearn.multioutput import MultiOutputClassifier\n",
    "from sklearn.ensemble import RandomForestClassifier\n",
    "classifier = MultiOutputClassifier(RandomForestClassifier()).fit(X_train, Y_train)\n"
   ]
  },
  {
   "cell_type": "markdown",
   "id": "e686e010",
   "metadata": {},
   "source": [
    "## Random Forest"
   ]
  },
  {
   "cell_type": "code",
   "execution_count": 24,
   "id": "c9af9241",
   "metadata": {},
   "outputs": [
    {
     "name": "stdout",
     "output_type": "stream",
     "text": [
      "              precision    recall  f1-score   support\n",
      "\n",
      "       SDG 1       0.26      0.82      0.40        99\n",
      "      SDG 10       0.60      0.57      0.58       153\n",
      "       SDG 3       0.69      0.76      0.72       499\n",
      "      SDG 11       0.46      0.84      0.59       184\n",
      "      SDG 12       0.60      0.78      0.68       130\n",
      "      SDG 13       0.51      0.79      0.62       135\n",
      "      SDG 14       0.42      0.77      0.54       129\n",
      "      SDG 15       0.27      0.75      0.40       221\n",
      "      SDG 16       0.26      0.72      0.38       207\n",
      "      SDG 17       0.32      0.74      0.44       195\n",
      "       SDG 2       0.45      0.64      0.53       272\n",
      "       SDG 4       0.24      0.80      0.37       161\n",
      "       SDG 5       0.34      0.82      0.48       133\n",
      "       SDG 6       0.41      0.59      0.49       103\n",
      "       SDG 7       0.45      0.64      0.53       143\n",
      "       SDG 8       0.46      0.69      0.55       299\n",
      "       SDG 9       0.34      0.86      0.49       306\n",
      "\n",
      "   micro avg       0.39      0.74      0.51      3369\n",
      "   macro avg       0.42      0.74      0.52      3369\n",
      "weighted avg       0.44      0.74      0.53      3369\n",
      " samples avg       0.45      0.69      0.51      3369\n",
      "\n"
     ]
    },
    {
     "name": "stderr",
     "output_type": "stream",
     "text": [
      "/Users/vincefacchino/opt/anaconda3/lib/python3.8/site-packages/sklearn/metrics/_classification.py:1469: UndefinedMetricWarning: Precision and F-score are ill-defined and being set to 0.0 in samples with no predicted labels. Use `zero_division` parameter to control this behavior.\n",
      "  _warn_prf(average, modifier, msg_start, len(result))\n",
      "/Users/vincefacchino/opt/anaconda3/lib/python3.8/site-packages/sklearn/metrics/_classification.py:1469: UndefinedMetricWarning: Recall and F-score are ill-defined and being set to 0.0 in samples with no true labels. Use `zero_division` parameter to control this behavior.\n",
      "  _warn_prf(average, modifier, msg_start, len(result))\n"
     ]
    }
   ],
   "source": [
    "classifier = MultiOutputClassifier(RandomForestClassifier(max_depth=5, criterion='entropy', n_estimators=200, class_weight='balanced_subsample', random_state=5))\n",
    "classifier.fit(X_train, Y_train)\n",
    "from sklearn.metrics import classification_report\n",
    "\n",
    "Y_pred = classifier.predict(X_test)\n",
    "print(classification_report(Y_test, Y_pred, target_names=sdg_keywords.keys()))"
   ]
  },
  {
   "cell_type": "markdown",
   "id": "e56a2bae",
   "metadata": {},
   "source": [
    "## Gradient Boosting"
   ]
  },
  {
   "cell_type": "code",
   "execution_count": 64,
   "id": "22813dda",
   "metadata": {},
   "outputs": [
    {
     "data": {
      "text/html": [
       "<style>#sk-container-id-22 {color: black;}#sk-container-id-22 pre{padding: 0;}#sk-container-id-22 div.sk-toggleable {background-color: white;}#sk-container-id-22 label.sk-toggleable__label {cursor: pointer;display: block;width: 100%;margin-bottom: 0;padding: 0.3em;box-sizing: border-box;text-align: center;}#sk-container-id-22 label.sk-toggleable__label-arrow:before {content: \"▸\";float: left;margin-right: 0.25em;color: #696969;}#sk-container-id-22 label.sk-toggleable__label-arrow:hover:before {color: black;}#sk-container-id-22 div.sk-estimator:hover label.sk-toggleable__label-arrow:before {color: black;}#sk-container-id-22 div.sk-toggleable__content {max-height: 0;max-width: 0;overflow: hidden;text-align: left;background-color: #f0f8ff;}#sk-container-id-22 div.sk-toggleable__content pre {margin: 0.2em;color: black;border-radius: 0.25em;background-color: #f0f8ff;}#sk-container-id-22 input.sk-toggleable__control:checked~div.sk-toggleable__content {max-height: 200px;max-width: 100%;overflow: auto;}#sk-container-id-22 input.sk-toggleable__control:checked~label.sk-toggleable__label-arrow:before {content: \"▾\";}#sk-container-id-22 div.sk-estimator input.sk-toggleable__control:checked~label.sk-toggleable__label {background-color: #d4ebff;}#sk-container-id-22 div.sk-label input.sk-toggleable__control:checked~label.sk-toggleable__label {background-color: #d4ebff;}#sk-container-id-22 input.sk-hidden--visually {border: 0;clip: rect(1px 1px 1px 1px);clip: rect(1px, 1px, 1px, 1px);height: 1px;margin: -1px;overflow: hidden;padding: 0;position: absolute;width: 1px;}#sk-container-id-22 div.sk-estimator {font-family: monospace;background-color: #f0f8ff;border: 1px dotted black;border-radius: 0.25em;box-sizing: border-box;margin-bottom: 0.5em;}#sk-container-id-22 div.sk-estimator:hover {background-color: #d4ebff;}#sk-container-id-22 div.sk-parallel-item::after {content: \"\";width: 100%;border-bottom: 1px solid gray;flex-grow: 1;}#sk-container-id-22 div.sk-label:hover label.sk-toggleable__label {background-color: #d4ebff;}#sk-container-id-22 div.sk-serial::before {content: \"\";position: absolute;border-left: 1px solid gray;box-sizing: border-box;top: 0;bottom: 0;left: 50%;z-index: 0;}#sk-container-id-22 div.sk-serial {display: flex;flex-direction: column;align-items: center;background-color: white;padding-right: 0.2em;padding-left: 0.2em;position: relative;}#sk-container-id-22 div.sk-item {position: relative;z-index: 1;}#sk-container-id-22 div.sk-parallel {display: flex;align-items: stretch;justify-content: center;background-color: white;position: relative;}#sk-container-id-22 div.sk-item::before, #sk-container-id-22 div.sk-parallel-item::before {content: \"\";position: absolute;border-left: 1px solid gray;box-sizing: border-box;top: 0;bottom: 0;left: 50%;z-index: -1;}#sk-container-id-22 div.sk-parallel-item {display: flex;flex-direction: column;z-index: 1;position: relative;background-color: white;}#sk-container-id-22 div.sk-parallel-item:first-child::after {align-self: flex-end;width: 50%;}#sk-container-id-22 div.sk-parallel-item:last-child::after {align-self: flex-start;width: 50%;}#sk-container-id-22 div.sk-parallel-item:only-child::after {width: 0;}#sk-container-id-22 div.sk-dashed-wrapped {border: 1px dashed gray;margin: 0 0.4em 0.5em 0.4em;box-sizing: border-box;padding-bottom: 0.4em;background-color: white;}#sk-container-id-22 div.sk-label label {font-family: monospace;font-weight: bold;display: inline-block;line-height: 1.2em;}#sk-container-id-22 div.sk-label-container {text-align: center;}#sk-container-id-22 div.sk-container {/* jupyter's `normalize.less` sets `[hidden] { display: none; }` but bootstrap.min.css set `[hidden] { display: none !important; }` so we also need the `!important` here to be able to override the default hidden behavior on the sphinx rendered scikit-learn.org. See: https://github.com/scikit-learn/scikit-learn/issues/21755 */display: inline-block !important;position: relative;}#sk-container-id-22 div.sk-text-repr-fallback {display: none;}</style><div id=\"sk-container-id-22\" class=\"sk-top-container\"><div class=\"sk-text-repr-fallback\"><pre>MultiOutputClassifier(estimator=GradientBoostingClassifier(criterion=&#x27;squared_error&#x27;,\n",
       "                                                           loss=&#x27;exponential&#x27;,\n",
       "                                                           n_estimators=200))</pre><b>In a Jupyter environment, please rerun this cell to show the HTML representation or trust the notebook. <br />On GitHub, the HTML representation is unable to render, please try loading this page with nbviewer.org.</b></div><div class=\"sk-container\" hidden><div class=\"sk-item sk-dashed-wrapped\"><div class=\"sk-label-container\"><div class=\"sk-label sk-toggleable\"><input class=\"sk-toggleable__control sk-hidden--visually\" id=\"sk-estimator-id-62\" type=\"checkbox\" ><label for=\"sk-estimator-id-62\" class=\"sk-toggleable__label sk-toggleable__label-arrow\">MultiOutputClassifier</label><div class=\"sk-toggleable__content\"><pre>MultiOutputClassifier(estimator=GradientBoostingClassifier(criterion=&#x27;squared_error&#x27;,\n",
       "                                                           loss=&#x27;exponential&#x27;,\n",
       "                                                           n_estimators=200))</pre></div></div></div><div class=\"sk-parallel\"><div class=\"sk-parallel-item\"><div class=\"sk-item\"><div class=\"sk-label-container\"><div class=\"sk-label sk-toggleable\"><input class=\"sk-toggleable__control sk-hidden--visually\" id=\"sk-estimator-id-63\" type=\"checkbox\" ><label for=\"sk-estimator-id-63\" class=\"sk-toggleable__label sk-toggleable__label-arrow\">estimator: GradientBoostingClassifier</label><div class=\"sk-toggleable__content\"><pre>GradientBoostingClassifier(criterion=&#x27;squared_error&#x27;, loss=&#x27;exponential&#x27;,\n",
       "                           n_estimators=200)</pre></div></div></div><div class=\"sk-serial\"><div class=\"sk-item\"><div class=\"sk-estimator sk-toggleable\"><input class=\"sk-toggleable__control sk-hidden--visually\" id=\"sk-estimator-id-64\" type=\"checkbox\" ><label for=\"sk-estimator-id-64\" class=\"sk-toggleable__label sk-toggleable__label-arrow\">GradientBoostingClassifier</label><div class=\"sk-toggleable__content\"><pre>GradientBoostingClassifier(criterion=&#x27;squared_error&#x27;, loss=&#x27;exponential&#x27;,\n",
       "                           n_estimators=200)</pre></div></div></div></div></div></div></div></div></div></div>"
      ],
      "text/plain": [
       "MultiOutputClassifier(estimator=GradientBoostingClassifier(criterion='squared_error',\n",
       "                                                           loss='exponential',\n",
       "                                                           n_estimators=200))"
      ]
     },
     "execution_count": 64,
     "metadata": {},
     "output_type": "execute_result"
    }
   ],
   "source": [
    "from sklearn.ensemble import GradientBoostingClassifier\n",
    "classifier = MultiOutputClassifier(GradientBoostingClassifier(loss=\"exponential\", learning_rate=0.1, n_estimators=200, criterion=\"squared_error\" ))\n",
    "classifier.fit(X_train, Y_train)\n"
   ]
  },
  {
   "cell_type": "code",
   "execution_count": 65,
   "id": "b83ec473",
   "metadata": {},
   "outputs": [
    {
     "name": "stdout",
     "output_type": "stream",
     "text": [
      "              precision    recall  f1-score   support\n",
      "\n",
      "       SDG 1       0.00      0.00      0.00        12\n",
      "      SDG 10       0.25      0.07      0.11        14\n",
      "       SDG 3       0.85      0.54      0.66        65\n",
      "      SDG 11       0.85      0.45      0.59        77\n",
      "      SDG 12       0.30      0.14      0.19        22\n",
      "      SDG 13       0.75      0.46      0.57        26\n",
      "      SDG 14       0.75      0.31      0.44        29\n",
      "      SDG 15       0.75      0.14      0.24        42\n",
      "      SDG 16       0.82      0.21      0.34        42\n",
      "      SDG 17       0.64      0.18      0.28        50\n",
      "       SDG 2       0.60      0.40      0.48        45\n",
      "       SDG 4       0.66      0.39      0.49        49\n",
      "       SDG 5       0.89      0.35      0.50        23\n",
      "       SDG 6       0.25      0.06      0.09        18\n",
      "       SDG 7       0.40      0.18      0.25        22\n",
      "       SDG 8       0.60      0.25      0.35        48\n",
      "       SDG 9       0.71      0.13      0.22        38\n",
      "\n",
      "   micro avg       0.68      0.30      0.42       622\n",
      "   macro avg       0.59      0.25      0.34       622\n",
      "weighted avg       0.67      0.30      0.40       622\n",
      " samples avg       0.37      0.32      0.32       622\n",
      "\n"
     ]
    },
    {
     "name": "stderr",
     "output_type": "stream",
     "text": [
      "/Users/vincefacchino/opt/anaconda3/lib/python3.8/site-packages/sklearn/metrics/_classification.py:1469: UndefinedMetricWarning: Precision and F-score are ill-defined and being set to 0.0 in samples with no predicted labels. Use `zero_division` parameter to control this behavior.\n",
      "  _warn_prf(average, modifier, msg_start, len(result))\n",
      "/Users/vincefacchino/opt/anaconda3/lib/python3.8/site-packages/sklearn/metrics/_classification.py:1469: UndefinedMetricWarning: Recall and F-score are ill-defined and being set to 0.0 in samples with no true labels. Use `zero_division` parameter to control this behavior.\n",
      "  _warn_prf(average, modifier, msg_start, len(result))\n"
     ]
    }
   ],
   "source": [
    "from sklearn.metrics import classification_report\n",
    "\n",
    "Y_pred = classifier.predict(X_test)\n",
    "print(classification_report(Y_test, Y_pred, target_names=sdg_keywords.keys()))"
   ]
  },
  {
   "cell_type": "markdown",
   "id": "1aea979b",
   "metadata": {},
   "source": [
    "## ADABoost"
   ]
  },
  {
   "cell_type": "code",
   "execution_count": 39,
   "id": "d54df1f8",
   "metadata": {},
   "outputs": [
    {
     "name": "stdout",
     "output_type": "stream",
     "text": [
      "              precision    recall  f1-score   support\n",
      "\n",
      "       SDG 1       0.84      0.26      0.40        99\n",
      "      SDG 10       0.75      0.25      0.38       153\n",
      "       SDG 3       0.77      0.63      0.69       499\n",
      "      SDG 11       0.80      0.53      0.64       184\n",
      "      SDG 12       0.87      0.59      0.70       130\n",
      "      SDG 13       0.84      0.56      0.67       135\n",
      "      SDG 14       0.86      0.54      0.67       129\n",
      "      SDG 15       0.70      0.13      0.21       221\n",
      "      SDG 16       0.74      0.15      0.26       207\n",
      "      SDG 17       0.72      0.18      0.29       195\n",
      "       SDG 2       0.80      0.24      0.37       272\n",
      "       SDG 4       0.72      0.33      0.45       161\n",
      "       SDG 5       0.77      0.48      0.59       133\n",
      "       SDG 6       0.71      0.34      0.46       103\n",
      "       SDG 7       0.79      0.34      0.48       143\n",
      "       SDG 8       0.73      0.33      0.46       299\n",
      "       SDG 9       0.82      0.23      0.35       306\n",
      "\n",
      "   micro avg       0.78      0.37      0.50      3369\n",
      "   macro avg       0.78      0.36      0.48      3369\n",
      "weighted avg       0.77      0.37      0.48      3369\n",
      " samples avg       0.46      0.41      0.42      3369\n",
      "\n"
     ]
    },
    {
     "name": "stderr",
     "output_type": "stream",
     "text": [
      "/Users/vincefacchino/opt/anaconda3/lib/python3.8/site-packages/sklearn/metrics/_classification.py:1469: UndefinedMetricWarning: Precision and F-score are ill-defined and being set to 0.0 in samples with no predicted labels. Use `zero_division` parameter to control this behavior.\n",
      "  _warn_prf(average, modifier, msg_start, len(result))\n",
      "/Users/vincefacchino/opt/anaconda3/lib/python3.8/site-packages/sklearn/metrics/_classification.py:1469: UndefinedMetricWarning: Recall and F-score are ill-defined and being set to 0.0 in samples with no true labels. Use `zero_division` parameter to control this behavior.\n",
      "  _warn_prf(average, modifier, msg_start, len(result))\n"
     ]
    }
   ],
   "source": [
    "from sklearn.ensemble import AdaBoostClassifier\n",
    "classifier = MultiOutputClassifier(AdaBoostClassifier(learning_rate=0.1, n_estimators=500 ))\n",
    "classifier.fit(X_train, Y_train)\n",
    "from sklearn.metrics import classification_report\n",
    "\n",
    "Y_pred = classifier.predict(X_test)\n",
    "print(classification_report(Y_test, Y_pred, target_names=sdg_keywords.keys()))"
   ]
  },
  {
   "cell_type": "markdown",
   "id": "1fe951b0",
   "metadata": {},
   "source": [
    "## KNN "
   ]
  },
  {
   "cell_type": "code",
   "execution_count": 12,
   "id": "c41bd1e7",
   "metadata": {},
   "outputs": [
    {
     "name": "stdout",
     "output_type": "stream",
     "text": [
      "              precision    recall  f1-score   support\n",
      "\n",
      "       SDG 1       0.64      0.47      0.54        99\n",
      "      SDG 10       0.69      0.57      0.62       153\n",
      "       SDG 3       0.78      0.76      0.77       499\n",
      "      SDG 11       0.64      0.52      0.58       184\n",
      "      SDG 12       0.80      0.75      0.77       130\n",
      "      SDG 13       0.66      0.75      0.70       135\n",
      "      SDG 14       0.70      0.57      0.63       129\n",
      "      SDG 15       0.57      0.48      0.52       221\n",
      "      SDG 16       0.45      0.36      0.40       207\n",
      "      SDG 17       0.62      0.44      0.51       195\n",
      "       SDG 2       0.67      0.56      0.61       272\n",
      "       SDG 4       0.51      0.53      0.52       161\n",
      "       SDG 5       0.65      0.62      0.64       133\n",
      "       SDG 6       0.75      0.54      0.63       103\n",
      "       SDG 7       0.65      0.53      0.58       143\n",
      "       SDG 8       0.64      0.55      0.59       299\n",
      "       SDG 9       0.68      0.56      0.61       306\n",
      "\n",
      "   micro avg       0.66      0.57      0.61      3369\n",
      "   macro avg       0.65      0.56      0.60      3369\n",
      "weighted avg       0.66      0.57      0.61      3369\n",
      " samples avg       0.59      0.58      0.57      3369\n",
      "\n"
     ]
    },
    {
     "name": "stderr",
     "output_type": "stream",
     "text": [
      "/Users/vincefacchino/opt/anaconda3/lib/python3.8/site-packages/sklearn/metrics/_classification.py:1469: UndefinedMetricWarning: Precision and F-score are ill-defined and being set to 0.0 in samples with no predicted labels. Use `zero_division` parameter to control this behavior.\n",
      "  _warn_prf(average, modifier, msg_start, len(result))\n",
      "/Users/vincefacchino/opt/anaconda3/lib/python3.8/site-packages/sklearn/metrics/_classification.py:1469: UndefinedMetricWarning: Recall and F-score are ill-defined and being set to 0.0 in samples with no true labels. Use `zero_division` parameter to control this behavior.\n",
      "  _warn_prf(average, modifier, msg_start, len(result))\n"
     ]
    }
   ],
   "source": [
    "from sklearn.neighbors import KNeighborsClassifier\n",
    "classifier = MultiOutputClassifier(KNeighborsClassifier(n_neighbors=4, weights='distance'))\n",
    "classifier.fit(X_train, Y_train)\n",
    "\n",
    "from sklearn.metrics import classification_report\n",
    "\n",
    "Y_pred = classifier.predict(X_test)\n",
    "print(classification_report(Y_test, Y_pred, target_names=sdg_keywords.keys()))"
   ]
  },
  {
   "cell_type": "markdown",
   "id": "a09aac6b",
   "metadata": {},
   "source": [
    "## SVM"
   ]
  },
  {
   "cell_type": "code",
   "execution_count": 10,
   "id": "93839c76",
   "metadata": {},
   "outputs": [
    {
     "name": "stdout",
     "output_type": "stream",
     "text": [
      "              precision    recall  f1-score   support\n",
      "\n",
      "       SDG 1       0.73      0.54      0.62        99\n",
      "      SDG 10       0.81      0.61      0.69       153\n",
      "       SDG 3       0.78      0.77      0.78       499\n",
      "      SDG 11       0.77      0.66      0.71       184\n",
      "      SDG 12       0.82      0.78      0.80       130\n",
      "      SDG 13       0.80      0.79      0.79       135\n",
      "      SDG 14       0.80      0.67      0.73       129\n",
      "      SDG 15       0.68      0.56      0.61       221\n",
      "      SDG 16       0.64      0.45      0.53       207\n",
      "      SDG 17       0.65      0.49      0.56       195\n",
      "       SDG 2       0.80      0.64      0.71       272\n",
      "       SDG 4       0.57      0.55      0.56       161\n",
      "       SDG 5       0.76      0.71      0.73       133\n",
      "       SDG 6       0.83      0.60      0.70       103\n",
      "       SDG 7       0.71      0.59      0.65       143\n",
      "       SDG 8       0.72      0.59      0.65       299\n",
      "       SDG 9       0.75      0.61      0.67       306\n",
      "\n",
      "   micro avg       0.74      0.63      0.68      3369\n",
      "   macro avg       0.74      0.62      0.68      3369\n",
      "weighted avg       0.74      0.63      0.68      3369\n",
      " samples avg       0.65      0.64      0.63      3369\n",
      "\n"
     ]
    },
    {
     "name": "stderr",
     "output_type": "stream",
     "text": [
      "/Users/vincefacchino/opt/anaconda3/lib/python3.8/site-packages/sklearn/metrics/_classification.py:1469: UndefinedMetricWarning: Precision and F-score are ill-defined and being set to 0.0 in samples with no predicted labels. Use `zero_division` parameter to control this behavior.\n",
      "  _warn_prf(average, modifier, msg_start, len(result))\n",
      "/Users/vincefacchino/opt/anaconda3/lib/python3.8/site-packages/sklearn/metrics/_classification.py:1469: UndefinedMetricWarning: Recall and F-score are ill-defined and being set to 0.0 in samples with no true labels. Use `zero_division` parameter to control this behavior.\n",
      "  _warn_prf(average, modifier, msg_start, len(result))\n"
     ]
    }
   ],
   "source": [
    "from sklearn.svm import SVC\n",
    "classifier = MultiOutputClassifier(SVC(C=50, kernel=\"rbf\" ))\n",
    "classifier.fit(X_train, Y_train)\n",
    "\n",
    "from sklearn.metrics import classification_report\n",
    "\n",
    "Y_pred = classifier.predict(X_test)\n",
    "print(classification_report(Y_test, Y_pred, target_names=sdg_keywords.keys()))"
   ]
  },
  {
   "cell_type": "markdown",
   "id": "e2078927",
   "metadata": {},
   "source": [
    "## MLP"
   ]
  },
  {
   "cell_type": "code",
   "execution_count": 9,
   "id": "59f4df58",
   "metadata": {},
   "outputs": [
    {
     "name": "stdout",
     "output_type": "stream",
     "text": [
      "              precision    recall  f1-score   support\n",
      "\n",
      "       SDG 1       0.76      0.56      0.64        99\n",
      "      SDG 10       0.79      0.58      0.67       153\n",
      "       SDG 3       0.79      0.77      0.78       499\n",
      "      SDG 11       0.76      0.62      0.69       184\n",
      "      SDG 12       0.80      0.76      0.78       130\n",
      "      SDG 13       0.81      0.78      0.80       135\n",
      "      SDG 14       0.78      0.65      0.71       129\n",
      "      SDG 15       0.69      0.57      0.63       221\n",
      "      SDG 16       0.67      0.43      0.52       207\n",
      "      SDG 17       0.72      0.48      0.58       195\n",
      "       SDG 2       0.70      0.74      0.72       272\n",
      "       SDG 4       0.66      0.58      0.62       161\n",
      "       SDG 5       0.77      0.72      0.75       133\n",
      "       SDG 6       0.86      0.59      0.70       103\n",
      "       SDG 7       0.73      0.60      0.66       143\n",
      "       SDG 8       0.74      0.60      0.66       299\n",
      "       SDG 9       0.78      0.62      0.69       306\n",
      "\n",
      "   micro avg       0.75      0.64      0.69      3369\n",
      "   macro avg       0.75      0.63      0.68      3369\n",
      "weighted avg       0.75      0.64      0.69      3369\n",
      " samples avg       0.66      0.64      0.63      3369\n",
      "\n"
     ]
    },
    {
     "name": "stderr",
     "output_type": "stream",
     "text": [
      "/Users/vincefacchino/opt/anaconda3/lib/python3.8/site-packages/sklearn/metrics/_classification.py:1469: UndefinedMetricWarning: Precision and F-score are ill-defined and being set to 0.0 in samples with no predicted labels. Use `zero_division` parameter to control this behavior.\n",
      "  _warn_prf(average, modifier, msg_start, len(result))\n",
      "/Users/vincefacchino/opt/anaconda3/lib/python3.8/site-packages/sklearn/metrics/_classification.py:1469: UndefinedMetricWarning: Recall and F-score are ill-defined and being set to 0.0 in samples with no true labels. Use `zero_division` parameter to control this behavior.\n",
      "  _warn_prf(average, modifier, msg_start, len(result))\n"
     ]
    }
   ],
   "source": [
    "from sklearn.neural_network import MLPClassifier\n",
    "classifier = MultiOutputClassifier(MLPClassifier(hidden_layer_sizes=300, max_iter=250, random_state=30))\n",
    "classifier.fit(X_train, Y_train)\n",
    "\n",
    "from sklearn.metrics import classification_report\n",
    "\n",
    "Y_pred = classifier.predict(X_test)\n",
    "print(classification_report(Y_test, Y_pred, target_names=sdg_keywords.keys()))"
   ]
  },
  {
   "cell_type": "code",
   "execution_count": null,
   "id": "4a5f5fd8",
   "metadata": {},
   "outputs": [],
   "source": []
  }
 ],
 "metadata": {
  "kernelspec": {
   "display_name": "Python 3",
   "language": "python",
   "name": "python3"
  },
  "language_info": {
   "codemirror_mode": {
    "name": "ipython",
    "version": 3
   },
   "file_extension": ".py",
   "mimetype": "text/x-python",
   "name": "python",
   "nbconvert_exporter": "python",
   "pygments_lexer": "ipython3",
   "version": "3.8.5"
  }
 },
 "nbformat": 4,
 "nbformat_minor": 5
}
